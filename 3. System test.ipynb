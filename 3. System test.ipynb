{
 "cells": [
  {
   "cell_type": "code",
   "execution_count": 18,
   "id": "2206187e",
   "metadata": {},
   "outputs": [],
   "source": [
    "import mediapipe as mp\n",
    "import pickle \n",
    "import numpy as np\n",
    "import cv2\n",
    "import pandas as pd\n",
    "\n",
    "mp_drawing = mp.solutions.drawing_utils \n",
    "mp_holistic = mp.solutions.holistic"
   ]
  },
  {
   "cell_type": "code",
   "execution_count": 15,
   "id": "a8f5989d",
   "metadata": {},
   "outputs": [],
   "source": [
    "# Load model\n",
    "with open('./body_language.pkl', 'rb') as f:\n",
    "    model = pickle.load(f)"
   ]
  },
  {
   "cell_type": "code",
   "execution_count": 16,
   "id": "c39d29c8",
   "metadata": {},
   "outputs": [
    {
     "data": {
      "text/html": [
       "<style>#sk-container-id-3 {color: black;background-color: white;}#sk-container-id-3 pre{padding: 0;}#sk-container-id-3 div.sk-toggleable {background-color: white;}#sk-container-id-3 label.sk-toggleable__label {cursor: pointer;display: block;width: 100%;margin-bottom: 0;padding: 0.3em;box-sizing: border-box;text-align: center;}#sk-container-id-3 label.sk-toggleable__label-arrow:before {content: \"▸\";float: left;margin-right: 0.25em;color: #696969;}#sk-container-id-3 label.sk-toggleable__label-arrow:hover:before {color: black;}#sk-container-id-3 div.sk-estimator:hover label.sk-toggleable__label-arrow:before {color: black;}#sk-container-id-3 div.sk-toggleable__content {max-height: 0;max-width: 0;overflow: hidden;text-align: left;background-color: #f0f8ff;}#sk-container-id-3 div.sk-toggleable__content pre {margin: 0.2em;color: black;border-radius: 0.25em;background-color: #f0f8ff;}#sk-container-id-3 input.sk-toggleable__control:checked~div.sk-toggleable__content {max-height: 200px;max-width: 100%;overflow: auto;}#sk-container-id-3 input.sk-toggleable__control:checked~label.sk-toggleable__label-arrow:before {content: \"▾\";}#sk-container-id-3 div.sk-estimator input.sk-toggleable__control:checked~label.sk-toggleable__label {background-color: #d4ebff;}#sk-container-id-3 div.sk-label input.sk-toggleable__control:checked~label.sk-toggleable__label {background-color: #d4ebff;}#sk-container-id-3 input.sk-hidden--visually {border: 0;clip: rect(1px 1px 1px 1px);clip: rect(1px, 1px, 1px, 1px);height: 1px;margin: -1px;overflow: hidden;padding: 0;position: absolute;width: 1px;}#sk-container-id-3 div.sk-estimator {font-family: monospace;background-color: #f0f8ff;border: 1px dotted black;border-radius: 0.25em;box-sizing: border-box;margin-bottom: 0.5em;}#sk-container-id-3 div.sk-estimator:hover {background-color: #d4ebff;}#sk-container-id-3 div.sk-parallel-item::after {content: \"\";width: 100%;border-bottom: 1px solid gray;flex-grow: 1;}#sk-container-id-3 div.sk-label:hover label.sk-toggleable__label {background-color: #d4ebff;}#sk-container-id-3 div.sk-serial::before {content: \"\";position: absolute;border-left: 1px solid gray;box-sizing: border-box;top: 0;bottom: 0;left: 50%;z-index: 0;}#sk-container-id-3 div.sk-serial {display: flex;flex-direction: column;align-items: center;background-color: white;padding-right: 0.2em;padding-left: 0.2em;position: relative;}#sk-container-id-3 div.sk-item {position: relative;z-index: 1;}#sk-container-id-3 div.sk-parallel {display: flex;align-items: stretch;justify-content: center;background-color: white;position: relative;}#sk-container-id-3 div.sk-item::before, #sk-container-id-3 div.sk-parallel-item::before {content: \"\";position: absolute;border-left: 1px solid gray;box-sizing: border-box;top: 0;bottom: 0;left: 50%;z-index: -1;}#sk-container-id-3 div.sk-parallel-item {display: flex;flex-direction: column;z-index: 1;position: relative;background-color: white;}#sk-container-id-3 div.sk-parallel-item:first-child::after {align-self: flex-end;width: 50%;}#sk-container-id-3 div.sk-parallel-item:last-child::after {align-self: flex-start;width: 50%;}#sk-container-id-3 div.sk-parallel-item:only-child::after {width: 0;}#sk-container-id-3 div.sk-dashed-wrapped {border: 1px dashed gray;margin: 0 0.4em 0.5em 0.4em;box-sizing: border-box;padding-bottom: 0.4em;background-color: white;}#sk-container-id-3 div.sk-label label {font-family: monospace;font-weight: bold;display: inline-block;line-height: 1.2em;}#sk-container-id-3 div.sk-label-container {text-align: center;}#sk-container-id-3 div.sk-container {/* jupyter's `normalize.less` sets `[hidden] { display: none; }` but bootstrap.min.css set `[hidden] { display: none !important; }` so we also need the `!important` here to be able to override the default hidden behavior on the sphinx rendered scikit-learn.org. See: https://github.com/scikit-learn/scikit-learn/issues/21755 */display: inline-block !important;position: relative;}#sk-container-id-3 div.sk-text-repr-fallback {display: none;}</style><div id=\"sk-container-id-3\" class=\"sk-top-container\"><div class=\"sk-text-repr-fallback\"><pre>Pipeline(steps=[(&#x27;minmaxscaler&#x27;, MinMaxScaler()),\n",
       "                (&#x27;svc&#x27;, SVC(probability=True))])</pre><b>In a Jupyter environment, please rerun this cell to show the HTML representation or trust the notebook. <br />On GitHub, the HTML representation is unable to render, please try loading this page with nbviewer.org.</b></div><div class=\"sk-container\" hidden><div class=\"sk-item sk-dashed-wrapped\"><div class=\"sk-label-container\"><div class=\"sk-label sk-toggleable\"><input class=\"sk-toggleable__control sk-hidden--visually\" id=\"sk-estimator-id-7\" type=\"checkbox\" ><label for=\"sk-estimator-id-7\" class=\"sk-toggleable__label sk-toggleable__label-arrow\">Pipeline</label><div class=\"sk-toggleable__content\"><pre>Pipeline(steps=[(&#x27;minmaxscaler&#x27;, MinMaxScaler()),\n",
       "                (&#x27;svc&#x27;, SVC(probability=True))])</pre></div></div></div><div class=\"sk-serial\"><div class=\"sk-item\"><div class=\"sk-estimator sk-toggleable\"><input class=\"sk-toggleable__control sk-hidden--visually\" id=\"sk-estimator-id-8\" type=\"checkbox\" ><label for=\"sk-estimator-id-8\" class=\"sk-toggleable__label sk-toggleable__label-arrow\">MinMaxScaler</label><div class=\"sk-toggleable__content\"><pre>MinMaxScaler()</pre></div></div></div><div class=\"sk-item\"><div class=\"sk-estimator sk-toggleable\"><input class=\"sk-toggleable__control sk-hidden--visually\" id=\"sk-estimator-id-9\" type=\"checkbox\" ><label for=\"sk-estimator-id-9\" class=\"sk-toggleable__label sk-toggleable__label-arrow\">SVC</label><div class=\"sk-toggleable__content\"><pre>SVC(probability=True)</pre></div></div></div></div></div></div></div>"
      ],
      "text/plain": [
       "Pipeline(steps=[('minmaxscaler', MinMaxScaler()),\n",
       "                ('svc', SVC(probability=True))])"
      ]
     },
     "execution_count": 16,
     "metadata": {},
     "output_type": "execute_result"
    }
   ],
   "source": [
    "model"
   ]
  },
  {
   "cell_type": "code",
   "execution_count": 17,
   "id": "4b2abf20",
   "metadata": {},
   "outputs": [],
   "source": [
    "hand_keypoints = 21 * 3\n",
    "pose_keypoints = 15 * 3\n",
    "hand_empty_keypoints = np.empty(hand_keypoints)\n",
    "pose_empty_keypoints = np.empty(pose_keypoints)\n",
    "hand_empty_keypoints[:] = 0.0 #np.nan\n",
    "pose_empty_keypoints[:] = 0.0 #np.nan\n",
    "hand_empty_keypoints = list(hand_empty_keypoints)\n",
    "pose_empty_keypoints = list(pose_empty_keypoints)"
   ]
  },
  {
   "cell_type": "code",
   "execution_count": 19,
   "id": "d2b9d9ab",
   "metadata": {},
   "outputs": [
    {
     "name": "stdout",
     "output_type": "stream",
     "text": [
      "dificultad_respirar: 0.8\n",
      "dificultad_respirar: 0.75\n",
      "dificultad_respirar: 0.72\n",
      "dificultad_respirar: 0.74\n",
      "dificultad_respirar: 0.73\n",
      "dificultad_respirar: 0.71\n",
      "dificultad_respirar: 0.72\n",
      "dificultad_respirar: 0.71\n",
      "dificultad_respirar: 0.72\n",
      "dificultad_respirar: 0.74\n"
     ]
    }
   ],
   "source": [
    "cap = cv2.VideoCapture('salud.mp4')\n",
    "threshold = 0.7\n",
    "with mp_holistic.Holistic(min_detection_confidence = 0.5, min_tracking_confidence = 0.5) as holistic:\n",
    "    while cap.isOpened():\n",
    "        ret, frame = cap.read()\n",
    "        if ret == True:\n",
    "            # Resize frame\n",
    "            #frame = cv2.resize(frame, (WIDTH, HEIGHT), interpolation = cv2.INTER_AREA)\n",
    "            # Change color from BGR to RGB\n",
    "            frame = cv2.cvtColor(frame, cv2.COLOR_BGR2RGB)\n",
    "            frame.flags.writeable = False\n",
    "            # Detect landmarks\n",
    "            results = holistic.process(frame)\n",
    "            \n",
    "             # Mano izquierda (rojo)\n",
    "            mp_drawing.draw_landmarks(\n",
    "                frame, results.left_hand_landmarks, mp_holistic.HAND_CONNECTIONS,\n",
    "                mp_drawing.DrawingSpec(color=(255, 255, 0), thickness=2, circle_radius=1),\n",
    "                mp_drawing.DrawingSpec(color=(255, 0, 0), thickness=2))\n",
    "\n",
    "           # Mano derecha (verde)\n",
    "            mp_drawing.draw_landmarks(\n",
    "                frame, results.right_hand_landmarks, mp_holistic.HAND_CONNECTIONS,\n",
    "                mp_drawing.DrawingSpec(color=(0, 255, 0), thickness=2, circle_radius=1),\n",
    "                mp_drawing.DrawingSpec(color=(57, 143, 0), thickness=2))\n",
    "\n",
    "           # Postura\n",
    "            mp_drawing.draw_landmarks(\n",
    "                frame, results.pose_landmarks, mp_holistic.POSE_CONNECTIONS,\n",
    "                mp_drawing.DrawingSpec(color=(128, 0, 255), thickness=2, circle_radius=1),\n",
    "                mp_drawing.DrawingSpec(color=(255, 255, 255), thickness=2))\n",
    "            \n",
    "            try:\n",
    "                \n",
    "                # Add coords to list row\n",
    "                row = []            \n",
    "                ## Get rhand landmarks\n",
    "                if results.right_hand_landmarks:\n",
    "                    for landmark in results.right_hand_landmarks.landmark:\n",
    "                        row.append(landmark.x)\n",
    "                        row.append(landmark.y)\n",
    "                        row.append(landmark.z)\n",
    "                else:\n",
    "                    row.extend(hand_empty_keypoints)\n",
    "                ## Get lhand landmarks\n",
    "                if results.left_hand_landmarks:\n",
    "                    for landmark in results.left_hand_landmarks.landmark:\n",
    "                        row.append(landmark.x)\n",
    "                        row.append(landmark.y)\n",
    "                        row.append(landmark.z)\n",
    "                else:\n",
    "                    row.extend(hand_empty_keypoints)\n",
    "                    \n",
    "                ## Get pose landmarks\n",
    "                if results.pose_landmarks:\n",
    "                    count = 0\n",
    "                    for landmark in results.pose_landmarks.landmark:\n",
    "                        row.append(landmark.x)\n",
    "                        row.append(landmark.y)\n",
    "                        row.append(landmark.z)\n",
    "                        count += 1\n",
    "                        if count == 15:\n",
    "                            break\n",
    "                else:\n",
    "                    row.extend(pose_empty_keypoints)\n",
    "            except:\n",
    "                pass \n",
    "           \n",
    "            if len(row)==171:\n",
    "                X = pd.DataFrame([row])\n",
    "                body_language_class = model.predict(X)[0]\n",
    "                body_language_prob = model.predict_proba(X)[0]\n",
    "                output_class = round(body_language_prob[np.argmax(body_language_prob)], 2)\n",
    "                \n",
    "                if output_class > threshold:\n",
    "                    print(f\"{body_language_class}: {output_class}\")\n",
    "                    # RECTAGULO SUPERIOR IZQUIERDA\n",
    "                    cv2.rectangle(frame, (0,0), (250, 60), (245, 117, 16),2)\n",
    "\n",
    "                    # Display Class\n",
    "                    cv2.putText(frame, 'CLASS'  # texto enunciado\n",
    "                                , (110,20), cv2.FONT_HERSHEY_SIMPLEX, 0.5, (0, 0, 0), 1, cv2.LINE_AA)\n",
    "                    cv2.putText(frame, body_language_class.split(' ')[0]   #texto valor class\n",
    "                                , (110,50), cv2.FONT_HERSHEY_SIMPLEX, 1, (0, 0, 255), 2, cv2.LINE_AA)\n",
    "\n",
    "                    # Display Probability\n",
    "                    cv2.putText(frame, 'PROB'\n",
    "                                , (15,20), cv2.FONT_HERSHEY_SIMPLEX, 0.5, (0, 0, 0), 1, cv2.LINE_AA)\n",
    "                    cv2.putText(frame, str(output_class)\n",
    "                                , (10,50), cv2.FONT_HERSHEY_SIMPLEX, 1, (255, 255, 255), 2, cv2.LINE_AA)\n",
    "\n",
    "            frame = cv2.cvtColor(frame, cv2.COLOR_RGB2BGR)\n",
    "            \n",
    "            frame = cv2.resize(frame, (600, 400))\n",
    "            cv2.imshow(\"Imagen a detectar\", frame)\n",
    "            if cv2.waitKey(10) & 0xFF == ord('q'):\n",
    "                    break\n",
    "        else:\n",
    "            break\n",
    "cap.release()\n",
    "cv2.destroyAllWindows()"
   ]
  }
 ],
 "metadata": {
  "kernelspec": {
   "display_name": "mediapipe",
   "language": "python",
   "name": "mediapipe"
  },
  "language_info": {
   "codemirror_mode": {
    "name": "ipython",
    "version": 3
   },
   "file_extension": ".py",
   "mimetype": "text/x-python",
   "name": "python",
   "nbconvert_exporter": "python",
   "pygments_lexer": "ipython3",
   "version": "3.10.4"
  }
 },
 "nbformat": 4,
 "nbformat_minor": 5
}
