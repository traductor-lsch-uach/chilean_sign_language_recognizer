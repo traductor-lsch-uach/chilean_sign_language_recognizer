{
 "cells": [
  {
   "cell_type": "code",
   "execution_count": 6,
   "id": "519225d7",
   "metadata": {},
   "outputs": [],
   "source": [
    "import mediapipe as mp\n",
    "import cv2\n",
    "import math\n",
    "import numpy as np\n",
    "from matplotlib import pyplot as plt\n",
    "import pandas as pd\n",
    "from pathlib import Path\n",
    "import os"
   ]
  },
  {
   "cell_type": "code",
   "execution_count": 7,
   "id": "d55901a8",
   "metadata": {},
   "outputs": [],
   "source": [
    "mp_holistic = mp.solutions.holistic\n",
    "mp_drawing = mp.solutions.drawing_utils \n",
    "mp_drawing_styles = mp.solutions.drawing_styles"
   ]
  },
  {
   "cell_type": "code",
   "execution_count": 8,
   "id": "c80fc44d",
   "metadata": {},
   "outputs": [],
   "source": [
    "coords = [\"x\", \"y\", \"z\"]\n",
    "keypoint_names = []\n",
    "keypoint_names.append(\"frame\")\n",
    "keypoint_names.append(\"class\")\n",
    "\n",
    "count = 0\n",
    "for landmark in mp_holistic.HandLandmark:\n",
    "    for coord in coords:\n",
    "        keypoint_names.append(\"R\"+str(landmark) + \"_\" + str(count) + \"_\" + coord)\n",
    "    count+=1\n",
    "\n",
    "count = 0\n",
    "for landmark in mp_holistic.HandLandmark:\n",
    "    for coord in coords:\n",
    "        keypoint_names.append(\"L\"+str(landmark) + \"_\" + str(count) + \"_\" + coord)\n",
    "    count+=1\n",
    "\n",
    "count = 0\n",
    "for landmark in mp_holistic.PoseLandmark:\n",
    "    for coord in coords:\n",
    "        keypoint_names.append(str(landmark) + \"_\" + str(count) + \"_\" + coord)\n",
    "    count+=1\n",
    "    if count == 15:\n",
    "        break"
   ]
  },
  {
   "cell_type": "code",
   "execution_count": 9,
   "id": "bbf4e971",
   "metadata": {},
   "outputs": [
    {
     "data": {
      "text/html": [
       "<div>\n",
       "<style scoped>\n",
       "    .dataframe tbody tr th:only-of-type {\n",
       "        vertical-align: middle;\n",
       "    }\n",
       "\n",
       "    .dataframe tbody tr th {\n",
       "        vertical-align: top;\n",
       "    }\n",
       "\n",
       "    .dataframe thead th {\n",
       "        text-align: right;\n",
       "    }\n",
       "</style>\n",
       "<table border=\"1\" class=\"dataframe\">\n",
       "  <thead>\n",
       "    <tr style=\"text-align: right;\">\n",
       "      <th></th>\n",
       "      <th>frame</th>\n",
       "      <th>class</th>\n",
       "      <th>RHandLandmark.WRIST_0_x</th>\n",
       "      <th>RHandLandmark.WRIST_0_y</th>\n",
       "      <th>RHandLandmark.WRIST_0_z</th>\n",
       "      <th>RHandLandmark.THUMB_CMC_1_x</th>\n",
       "      <th>RHandLandmark.THUMB_CMC_1_y</th>\n",
       "      <th>RHandLandmark.THUMB_CMC_1_z</th>\n",
       "      <th>RHandLandmark.THUMB_MCP_2_x</th>\n",
       "      <th>RHandLandmark.THUMB_MCP_2_y</th>\n",
       "      <th>...</th>\n",
       "      <th>PoseLandmark.LEFT_SHOULDER_11_z</th>\n",
       "      <th>PoseLandmark.RIGHT_SHOULDER_12_x</th>\n",
       "      <th>PoseLandmark.RIGHT_SHOULDER_12_y</th>\n",
       "      <th>PoseLandmark.RIGHT_SHOULDER_12_z</th>\n",
       "      <th>PoseLandmark.LEFT_ELBOW_13_x</th>\n",
       "      <th>PoseLandmark.LEFT_ELBOW_13_y</th>\n",
       "      <th>PoseLandmark.LEFT_ELBOW_13_z</th>\n",
       "      <th>PoseLandmark.RIGHT_ELBOW_14_x</th>\n",
       "      <th>PoseLandmark.RIGHT_ELBOW_14_y</th>\n",
       "      <th>PoseLandmark.RIGHT_ELBOW_14_z</th>\n",
       "    </tr>\n",
       "  </thead>\n",
       "  <tbody>\n",
       "  </tbody>\n",
       "</table>\n",
       "<p>0 rows × 173 columns</p>\n",
       "</div>"
      ],
      "text/plain": [
       "Empty DataFrame\n",
       "Columns: [frame, class, RHandLandmark.WRIST_0_x, RHandLandmark.WRIST_0_y, RHandLandmark.WRIST_0_z, RHandLandmark.THUMB_CMC_1_x, RHandLandmark.THUMB_CMC_1_y, RHandLandmark.THUMB_CMC_1_z, RHandLandmark.THUMB_MCP_2_x, RHandLandmark.THUMB_MCP_2_y, RHandLandmark.THUMB_MCP_2_z, RHandLandmark.THUMB_IP_3_x, RHandLandmark.THUMB_IP_3_y, RHandLandmark.THUMB_IP_3_z, RHandLandmark.THUMB_TIP_4_x, RHandLandmark.THUMB_TIP_4_y, RHandLandmark.THUMB_TIP_4_z, RHandLandmark.INDEX_FINGER_MCP_5_x, RHandLandmark.INDEX_FINGER_MCP_5_y, RHandLandmark.INDEX_FINGER_MCP_5_z, RHandLandmark.INDEX_FINGER_PIP_6_x, RHandLandmark.INDEX_FINGER_PIP_6_y, RHandLandmark.INDEX_FINGER_PIP_6_z, RHandLandmark.INDEX_FINGER_DIP_7_x, RHandLandmark.INDEX_FINGER_DIP_7_y, RHandLandmark.INDEX_FINGER_DIP_7_z, RHandLandmark.INDEX_FINGER_TIP_8_x, RHandLandmark.INDEX_FINGER_TIP_8_y, RHandLandmark.INDEX_FINGER_TIP_8_z, RHandLandmark.MIDDLE_FINGER_MCP_9_x, RHandLandmark.MIDDLE_FINGER_MCP_9_y, RHandLandmark.MIDDLE_FINGER_MCP_9_z, RHandLandmark.MIDDLE_FINGER_PIP_10_x, RHandLandmark.MIDDLE_FINGER_PIP_10_y, RHandLandmark.MIDDLE_FINGER_PIP_10_z, RHandLandmark.MIDDLE_FINGER_DIP_11_x, RHandLandmark.MIDDLE_FINGER_DIP_11_y, RHandLandmark.MIDDLE_FINGER_DIP_11_z, RHandLandmark.MIDDLE_FINGER_TIP_12_x, RHandLandmark.MIDDLE_FINGER_TIP_12_y, RHandLandmark.MIDDLE_FINGER_TIP_12_z, RHandLandmark.RING_FINGER_MCP_13_x, RHandLandmark.RING_FINGER_MCP_13_y, RHandLandmark.RING_FINGER_MCP_13_z, RHandLandmark.RING_FINGER_PIP_14_x, RHandLandmark.RING_FINGER_PIP_14_y, RHandLandmark.RING_FINGER_PIP_14_z, RHandLandmark.RING_FINGER_DIP_15_x, RHandLandmark.RING_FINGER_DIP_15_y, RHandLandmark.RING_FINGER_DIP_15_z, RHandLandmark.RING_FINGER_TIP_16_x, RHandLandmark.RING_FINGER_TIP_16_y, RHandLandmark.RING_FINGER_TIP_16_z, RHandLandmark.PINKY_MCP_17_x, RHandLandmark.PINKY_MCP_17_y, RHandLandmark.PINKY_MCP_17_z, RHandLandmark.PINKY_PIP_18_x, RHandLandmark.PINKY_PIP_18_y, RHandLandmark.PINKY_PIP_18_z, RHandLandmark.PINKY_DIP_19_x, RHandLandmark.PINKY_DIP_19_y, RHandLandmark.PINKY_DIP_19_z, RHandLandmark.PINKY_TIP_20_x, RHandLandmark.PINKY_TIP_20_y, RHandLandmark.PINKY_TIP_20_z, LHandLandmark.WRIST_0_x, LHandLandmark.WRIST_0_y, LHandLandmark.WRIST_0_z, LHandLandmark.THUMB_CMC_1_x, LHandLandmark.THUMB_CMC_1_y, LHandLandmark.THUMB_CMC_1_z, LHandLandmark.THUMB_MCP_2_x, LHandLandmark.THUMB_MCP_2_y, LHandLandmark.THUMB_MCP_2_z, LHandLandmark.THUMB_IP_3_x, LHandLandmark.THUMB_IP_3_y, LHandLandmark.THUMB_IP_3_z, LHandLandmark.THUMB_TIP_4_x, LHandLandmark.THUMB_TIP_4_y, LHandLandmark.THUMB_TIP_4_z, LHandLandmark.INDEX_FINGER_MCP_5_x, LHandLandmark.INDEX_FINGER_MCP_5_y, LHandLandmark.INDEX_FINGER_MCP_5_z, LHandLandmark.INDEX_FINGER_PIP_6_x, LHandLandmark.INDEX_FINGER_PIP_6_y, LHandLandmark.INDEX_FINGER_PIP_6_z, LHandLandmark.INDEX_FINGER_DIP_7_x, LHandLandmark.INDEX_FINGER_DIP_7_y, LHandLandmark.INDEX_FINGER_DIP_7_z, LHandLandmark.INDEX_FINGER_TIP_8_x, LHandLandmark.INDEX_FINGER_TIP_8_y, LHandLandmark.INDEX_FINGER_TIP_8_z, LHandLandmark.MIDDLE_FINGER_MCP_9_x, LHandLandmark.MIDDLE_FINGER_MCP_9_y, LHandLandmark.MIDDLE_FINGER_MCP_9_z, LHandLandmark.MIDDLE_FINGER_PIP_10_x, LHandLandmark.MIDDLE_FINGER_PIP_10_y, LHandLandmark.MIDDLE_FINGER_PIP_10_z, LHandLandmark.MIDDLE_FINGER_DIP_11_x, LHandLandmark.MIDDLE_FINGER_DIP_11_y, ...]\n",
       "Index: []\n",
       "\n",
       "[0 rows x 173 columns]"
      ]
     },
     "execution_count": 9,
     "metadata": {},
     "output_type": "execute_result"
    }
   ],
   "source": [
    "df = pd.DataFrame([], columns= keypoint_names)\n",
    "df"
   ]
  },
  {
   "cell_type": "code",
   "execution_count": 10,
   "id": "4a88a7aa",
   "metadata": {},
   "outputs": [
    {
     "name": "stdout",
     "output_type": "stream",
     "text": [
      "['dolor_respirar', 'medico', 'fiebre', 'coronavirus', 'evitar_contacto', 'dolor_cabeza', 'dolor_garganta', 'hospital', 'quedan_en_casa', 'ponerse_mascarilla']\n"
     ]
    }
   ],
   "source": [
    "# leer videos\n",
    "#path = \"Train_Dataset/\"\n",
    "path  ='gestures/'\n",
    "words = [words for words in os.listdir(path) if os.path.isdir(os.path.join(path, words))]\n",
    "print(words)\n",
    "# Todos los videos se cambian a  resolucion (600x900), para su mejor deteccion de puntos.\n",
    "HEIGHT = 600\n",
    "WIDTH  = 900\n",
    "for word in words:\n",
    "    for video in os.listdir(os.path.join(path, word)):\n",
    "        # Direccion donde se encuentran los videos\n",
    "        frame_number = 0\n",
    "        video_path = os.path.join(os.path.join(path, word), video)\n",
    "        print(video_path)\n",
    "        # Captura de videos\n",
    "        cap = cv2.VideoCapture(video_path)\n",
    "        # Inizializar modelo holistico\n",
    "        with mp_holistic.Holistic(min_detection_confidence = 0.5, min_tracking_confidence = 0.5) as holistic:\n",
    "            while cap.isOpened():\n",
    "                # Leer sequencia\n",
    "                ret, frame = cap.read()\n",
    "                if ret == True:\n",
    "                    frame_number += 1\n",
    "                    # Redimensionar sequencia\n",
    "                    frame = cv2.resize(frame, (WIDTH, HEIGHT), interpolation = cv2.INTER_AREA)\n",
    "                    # Cambiar  color de BGR a RGB\n",
    "                    frame = cv2.cvtColor(frame, cv2.COLOR_BGR2RGB)\n",
    "                    frame.flags.writeable = False\n",
    "                    # Deteccion puntos de referencia\n",
    "                    results = holistic.process(frame)\n",
    "                    try:\n",
    "                        # Añadir coordenadas a la lista\n",
    "                        row = []\n",
    "                        # El nombre de las palabras es añadida a la lista\n",
    "                        row.append(frame_number)\n",
    "                        row.append(word)\n",
    "                        ## Detectar puntos mano derecha ( rhand)\n",
    "                        for landmark in results.right_hand_landmarks.landmark:\n",
    "                            row.append(landmark.x)\n",
    "                            row.append(landmark.y)\n",
    "                            row.append(landmark.z)\n",
    "                        ## Detectar puntos mano iquierda ( lhand)\n",
    "                        for landmark in results.left_hand_landmarks.landmark:\n",
    "                            row.append(landmark.x)\n",
    "                            row.append(landmark.y)\n",
    "                            row.append(landmark.z)\n",
    "                        ## Detectar puntos cuerpo ( pose)\n",
    "                        count = 0\n",
    "                        for landmark in results.pose_landmarks.landmark:\n",
    "                            row.append(landmark.x)\n",
    "                            row.append(landmark.y)\n",
    "                            row.append(landmark.z)\n",
    "                            count += 1\n",
    "                            if count == 15:\n",
    "                                break\n",
    "                        df.loc[len(df)] = row\n",
    "                    except:\n",
    "                        pass\n",
    "                else:\n",
    "                    break\n",
    "            cap.release()"
   ]
  },
  {
   "cell_type": "code",
   "execution_count": 11,
   "id": "06af4550",
   "metadata": {},
   "outputs": [
    {
     "data": {
      "text/html": [
       "<div>\n",
       "<style scoped>\n",
       "    .dataframe tbody tr th:only-of-type {\n",
       "        vertical-align: middle;\n",
       "    }\n",
       "\n",
       "    .dataframe tbody tr th {\n",
       "        vertical-align: top;\n",
       "    }\n",
       "\n",
       "    .dataframe thead th {\n",
       "        text-align: right;\n",
       "    }\n",
       "</style>\n",
       "<table border=\"1\" class=\"dataframe\">\n",
       "  <thead>\n",
       "    <tr style=\"text-align: right;\">\n",
       "      <th></th>\n",
       "      <th>frame</th>\n",
       "      <th>class</th>\n",
       "      <th>RHandLandmark.WRIST_0_x</th>\n",
       "      <th>RHandLandmark.WRIST_0_y</th>\n",
       "      <th>RHandLandmark.WRIST_0_z</th>\n",
       "      <th>RHandLandmark.THUMB_CMC_1_x</th>\n",
       "      <th>RHandLandmark.THUMB_CMC_1_y</th>\n",
       "      <th>RHandLandmark.THUMB_CMC_1_z</th>\n",
       "      <th>RHandLandmark.THUMB_MCP_2_x</th>\n",
       "      <th>RHandLandmark.THUMB_MCP_2_y</th>\n",
       "      <th>...</th>\n",
       "      <th>PoseLandmark.LEFT_SHOULDER_11_z</th>\n",
       "      <th>PoseLandmark.RIGHT_SHOULDER_12_x</th>\n",
       "      <th>PoseLandmark.RIGHT_SHOULDER_12_y</th>\n",
       "      <th>PoseLandmark.RIGHT_SHOULDER_12_z</th>\n",
       "      <th>PoseLandmark.LEFT_ELBOW_13_x</th>\n",
       "      <th>PoseLandmark.LEFT_ELBOW_13_y</th>\n",
       "      <th>PoseLandmark.LEFT_ELBOW_13_z</th>\n",
       "      <th>PoseLandmark.RIGHT_ELBOW_14_x</th>\n",
       "      <th>PoseLandmark.RIGHT_ELBOW_14_y</th>\n",
       "      <th>PoseLandmark.RIGHT_ELBOW_14_z</th>\n",
       "    </tr>\n",
       "  </thead>\n",
       "  <tbody>\n",
       "  </tbody>\n",
       "</table>\n",
       "<p>0 rows × 173 columns</p>\n",
       "</div>"
      ],
      "text/plain": [
       "Empty DataFrame\n",
       "Columns: [frame, class, RHandLandmark.WRIST_0_x, RHandLandmark.WRIST_0_y, RHandLandmark.WRIST_0_z, RHandLandmark.THUMB_CMC_1_x, RHandLandmark.THUMB_CMC_1_y, RHandLandmark.THUMB_CMC_1_z, RHandLandmark.THUMB_MCP_2_x, RHandLandmark.THUMB_MCP_2_y, RHandLandmark.THUMB_MCP_2_z, RHandLandmark.THUMB_IP_3_x, RHandLandmark.THUMB_IP_3_y, RHandLandmark.THUMB_IP_3_z, RHandLandmark.THUMB_TIP_4_x, RHandLandmark.THUMB_TIP_4_y, RHandLandmark.THUMB_TIP_4_z, RHandLandmark.INDEX_FINGER_MCP_5_x, RHandLandmark.INDEX_FINGER_MCP_5_y, RHandLandmark.INDEX_FINGER_MCP_5_z, RHandLandmark.INDEX_FINGER_PIP_6_x, RHandLandmark.INDEX_FINGER_PIP_6_y, RHandLandmark.INDEX_FINGER_PIP_6_z, RHandLandmark.INDEX_FINGER_DIP_7_x, RHandLandmark.INDEX_FINGER_DIP_7_y, RHandLandmark.INDEX_FINGER_DIP_7_z, RHandLandmark.INDEX_FINGER_TIP_8_x, RHandLandmark.INDEX_FINGER_TIP_8_y, RHandLandmark.INDEX_FINGER_TIP_8_z, RHandLandmark.MIDDLE_FINGER_MCP_9_x, RHandLandmark.MIDDLE_FINGER_MCP_9_y, RHandLandmark.MIDDLE_FINGER_MCP_9_z, RHandLandmark.MIDDLE_FINGER_PIP_10_x, RHandLandmark.MIDDLE_FINGER_PIP_10_y, RHandLandmark.MIDDLE_FINGER_PIP_10_z, RHandLandmark.MIDDLE_FINGER_DIP_11_x, RHandLandmark.MIDDLE_FINGER_DIP_11_y, RHandLandmark.MIDDLE_FINGER_DIP_11_z, RHandLandmark.MIDDLE_FINGER_TIP_12_x, RHandLandmark.MIDDLE_FINGER_TIP_12_y, RHandLandmark.MIDDLE_FINGER_TIP_12_z, RHandLandmark.RING_FINGER_MCP_13_x, RHandLandmark.RING_FINGER_MCP_13_y, RHandLandmark.RING_FINGER_MCP_13_z, RHandLandmark.RING_FINGER_PIP_14_x, RHandLandmark.RING_FINGER_PIP_14_y, RHandLandmark.RING_FINGER_PIP_14_z, RHandLandmark.RING_FINGER_DIP_15_x, RHandLandmark.RING_FINGER_DIP_15_y, RHandLandmark.RING_FINGER_DIP_15_z, RHandLandmark.RING_FINGER_TIP_16_x, RHandLandmark.RING_FINGER_TIP_16_y, RHandLandmark.RING_FINGER_TIP_16_z, RHandLandmark.PINKY_MCP_17_x, RHandLandmark.PINKY_MCP_17_y, RHandLandmark.PINKY_MCP_17_z, RHandLandmark.PINKY_PIP_18_x, RHandLandmark.PINKY_PIP_18_y, RHandLandmark.PINKY_PIP_18_z, RHandLandmark.PINKY_DIP_19_x, RHandLandmark.PINKY_DIP_19_y, RHandLandmark.PINKY_DIP_19_z, RHandLandmark.PINKY_TIP_20_x, RHandLandmark.PINKY_TIP_20_y, RHandLandmark.PINKY_TIP_20_z, LHandLandmark.WRIST_0_x, LHandLandmark.WRIST_0_y, LHandLandmark.WRIST_0_z, LHandLandmark.THUMB_CMC_1_x, LHandLandmark.THUMB_CMC_1_y, LHandLandmark.THUMB_CMC_1_z, LHandLandmark.THUMB_MCP_2_x, LHandLandmark.THUMB_MCP_2_y, LHandLandmark.THUMB_MCP_2_z, LHandLandmark.THUMB_IP_3_x, LHandLandmark.THUMB_IP_3_y, LHandLandmark.THUMB_IP_3_z, LHandLandmark.THUMB_TIP_4_x, LHandLandmark.THUMB_TIP_4_y, LHandLandmark.THUMB_TIP_4_z, LHandLandmark.INDEX_FINGER_MCP_5_x, LHandLandmark.INDEX_FINGER_MCP_5_y, LHandLandmark.INDEX_FINGER_MCP_5_z, LHandLandmark.INDEX_FINGER_PIP_6_x, LHandLandmark.INDEX_FINGER_PIP_6_y, LHandLandmark.INDEX_FINGER_PIP_6_z, LHandLandmark.INDEX_FINGER_DIP_7_x, LHandLandmark.INDEX_FINGER_DIP_7_y, LHandLandmark.INDEX_FINGER_DIP_7_z, LHandLandmark.INDEX_FINGER_TIP_8_x, LHandLandmark.INDEX_FINGER_TIP_8_y, LHandLandmark.INDEX_FINGER_TIP_8_z, LHandLandmark.MIDDLE_FINGER_MCP_9_x, LHandLandmark.MIDDLE_FINGER_MCP_9_y, LHandLandmark.MIDDLE_FINGER_MCP_9_z, LHandLandmark.MIDDLE_FINGER_PIP_10_x, LHandLandmark.MIDDLE_FINGER_PIP_10_y, LHandLandmark.MIDDLE_FINGER_PIP_10_z, LHandLandmark.MIDDLE_FINGER_DIP_11_x, LHandLandmark.MIDDLE_FINGER_DIP_11_y, ...]\n",
       "Index: []\n",
       "\n",
       "[0 rows x 173 columns]"
      ]
     },
     "execution_count": 11,
     "metadata": {},
     "output_type": "execute_result"
    }
   ],
   "source": [
    "df"
   ]
  },
  {
   "cell_type": "code",
   "execution_count": 1,
   "id": "1a64b4a6",
   "metadata": {},
   "outputs": [
    {
     "ename": "NameError",
     "evalue": "name 'df' is not defined",
     "output_type": "error",
     "traceback": [
      "\u001b[0;31m---------------------------------------------------------------------------\u001b[0m",
      "\u001b[0;31mNameError\u001b[0m                                 Traceback (most recent call last)",
      "Input \u001b[0;32mIn [1]\u001b[0m, in \u001b[0;36m<cell line: 1>\u001b[0;34m()\u001b[0m\n\u001b[0;32m----> 1\u001b[0m \u001b[43mdf\u001b[49m[\u001b[38;5;124m'\u001b[39m\u001b[38;5;124mframe\u001b[39m\u001b[38;5;124m'\u001b[39m]\u001b[38;5;241m.\u001b[39munique()\n",
      "\u001b[0;31mNameError\u001b[0m: name 'df' is not defined"
     ]
    }
   ],
   "source": [
    "df['frame'].unique()"
   ]
  },
  {
   "cell_type": "code",
   "execution_count": 28,
   "id": "60740255",
   "metadata": {},
   "outputs": [],
   "source": [
    "df.to_csv(\"data.csv\", index= False)"
   ]
  },
  {
   "cell_type": "code",
   "execution_count": 11,
   "id": "a34e5176",
   "metadata": {},
   "outputs": [
    {
     "data": {
      "text/plain": [
       "<AxesSubplot:>"
      ]
     },
     "execution_count": 11,
     "metadata": {},
     "output_type": "execute_result"
    },
    {
     "data": {
      "image/png": "[encoded data removed]",
      "text/plain": [
       "<Figure size 1080x648 with 1 Axes>"
      ]
     },
     "metadata": {
      "needs_background": "light"
     },
     "output_type": "display_data"
    }
   ],
   "source": [
    "plt.figure(figsize=(15,9))\n",
    "df['frame'].hist(bins=30)"
   ]
  }
 ],
 "metadata": {
  "kernelspec": {
   "display_name": "mediapipe",
   "language": "python",
   "name": "mediapipe"
  },
  "language_info": {
   "codemirror_mode": {
    "name": "ipython",
    "version": 3
   },
   "file_extension": ".py",
   "mimetype": "text/x-python",
   "name": "python",
   "nbconvert_exporter": "python",
   "pygments_lexer": "ipython3",
   "version": "3.8.13"
  }
 },
 "nbformat": 4,
 "nbformat_minor": 5
}
