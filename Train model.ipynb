{
 "cells": [
  {
   "cell_type": "code",
   "execution_count": 30,
   "id": "e9759236",
   "metadata": {},
   "outputs": [],
   "source": [
    "from sklearn.pipeline import make_pipeline \n",
    "from sklearn.preprocessing import StandardScaler,MinMaxScaler\n",
    "from sklearn.model_selection import train_test_split\n",
    "from sklearn.metrics import confusion_matrix, plot_confusion_matrix,accuracy_score\n",
    "from sklearn.linear_model import LogisticRegression, RidgeClassifier\n",
    "from sklearn.ensemble import RandomForestClassifier, GradientBoostingClassifier\n",
    "from sklearn.svm import SVC\n",
    "import seaborn as sns\n",
    "import pandas as pd\n",
    "import numpy as np\n",
    "import pickle \n",
    "import matplotlib.pyplot as plt\n",
    "import cv2\n",
    "import mediapipe as mp\n",
    "\n",
    "mp_drawing = mp.solutions.drawing_utils \n",
    "mp_holistic = mp.solutions.holistic"
   ]
  },
  {
   "cell_type": "code",
   "execution_count": 31,
   "id": "09172b88",
   "metadata": {},
   "outputs": [],
   "source": [
    "df = pd.read_csv('data.csv')\n",
    "\n",
    "X = df.drop('frame', axis=1) \n",
    "y = df['frame'] "
   ]
  },
  {
   "cell_type": "code",
   "execution_count": 32,
   "id": "c603b23e",
   "metadata": {},
   "outputs": [],
   "source": [
    "X_train, X_test, y_train, y_test = train_test_split(X, y, test_size=0.3, random_state=1234)"
   ]
  },
  {
   "cell_type": "code",
   "execution_count": 33,
   "id": "53ba5934",
   "metadata": {},
   "outputs": [
    {
     "data": {
      "text/plain": [
       "686        Casa\n",
       "628        Casa\n",
       "1139     Sentir\n",
       "631        Casa\n",
       "444     Cerveza\n",
       "         ...   \n",
       "936        Casa\n",
       "1012    Colegio\n",
       "1034    Colegio\n",
       "811        Casa\n",
       "155     Cerveza\n",
       "Name: frame, Length: 385, dtype: object"
      ]
     },
     "execution_count": 33,
     "metadata": {},
     "output_type": "execute_result"
    }
   ],
   "source": [
    "y_test"
   ]
  },
  {
   "cell_type": "code",
   "execution_count": 39,
   "id": "7f2298fa",
   "metadata": {},
   "outputs": [],
   "source": [
    "pipelines = {\n",
    "    'lr':make_pipeline(MinMaxScaler(), LogisticRegression()),\n",
    "    'rc':make_pipeline(MinMaxScaler(), RidgeClassifier()),\n",
    "    'rf':make_pipeline(MinMaxScaler(), RandomForestClassifier()),\n",
    "    'sv':make_pipeline(MinMaxScaler(), SVC(probability=True))\n",
    "}"
   ]
  },
  {
   "cell_type": "code",
   "execution_count": 40,
   "id": "b94f7bb7",
   "metadata": {},
   "outputs": [
    {
     "name": "stderr",
     "output_type": "stream",
     "text": [
      "/home/redbird/miniconda3/envs/mediapipe/lib/python3.8/site-packages/sklearn/linear_model/_logistic.py:444: ConvergenceWarning: lbfgs failed to converge (status=1):\n",
      "STOP: TOTAL NO. of ITERATIONS REACHED LIMIT.\n",
      "\n",
      "Increase the number of iterations (max_iter) or scale the data as shown in:\n",
      "    https://scikit-learn.org/stable/modules/preprocessing.html\n",
      "Please also refer to the documentation for alternative solver options:\n",
      "    https://scikit-learn.org/stable/modules/linear_model.html#logistic-regression\n",
      "  n_iter_i = _check_optimize_result(\n"
     ]
    }
   ],
   "source": [
    "fit_models = {}\n",
    "for algo, pipeline in pipelines.items():\n",
    "    model = pipeline.fit(X_train, y_train)\n",
    "    fit_models[algo] = model"
   ]
  },
  {
   "cell_type": "code",
   "execution_count": 41,
   "id": "e57e5153",
   "metadata": {},
   "outputs": [
    {
     "data": {
      "text/plain": [
       "{'lr': Pipeline(steps=[('minmaxscaler', MinMaxScaler()),\n",
       "                 ('logisticregression', LogisticRegression())]),\n",
       " 'rc': Pipeline(steps=[('minmaxscaler', MinMaxScaler()),\n",
       "                 ('ridgeclassifier', RidgeClassifier())]),\n",
       " 'rf': Pipeline(steps=[('minmaxscaler', MinMaxScaler()),\n",
       "                 ('randomforestclassifier', RandomForestClassifier())]),\n",
       " 'sv': Pipeline(steps=[('minmaxscaler', MinMaxScaler()),\n",
       "                 ('svc', SVC(probability=True))])}"
      ]
     },
     "execution_count": 41,
     "metadata": {},
     "output_type": "execute_result"
    }
   ],
   "source": [
    "fit_models"
   ]
  },
  {
   "cell_type": "code",
   "execution_count": 42,
   "id": "5fe0dec5",
   "metadata": {},
   "outputs": [
    {
     "data": {
      "text/plain": [
       "array(['Casa', 'Casa', 'Sentir', 'Casa', 'Cerveza', 'Amigo', 'Colegio',\n",
       "       'Cerveza', 'Colegio', 'Cerveza', 'Sentir', 'Cerveza', 'Cerveza',\n",
       "       'Cerveza', 'Casa', 'Casa', 'Sentir', 'Cerveza', 'Casa', 'Cerveza',\n",
       "       'Cerveza', 'Colegio', 'Sentir', 'Casa', 'Casa', 'Casa', 'Casa',\n",
       "       'Casa', 'Cerveza', 'Sentir', 'Cerveza', 'Cerveza', 'Casa',\n",
       "       'Colegio', 'Cerveza', 'Casa', 'Casa', 'Cerveza', 'Amigo', 'Casa',\n",
       "       'Amigo', 'Casa', 'Cerveza', 'Casa', 'Cerveza', 'Casa', 'Casa',\n",
       "       'Sentir', 'Casa', 'Casa', 'Cerveza', 'Cerveza', 'Amigo', 'Sentir',\n",
       "       'Cerveza', 'Casa', 'Cerveza', 'Casa', 'Cerveza', 'Casa', 'Casa',\n",
       "       'Casa', 'Casa', 'Amigo', 'Casa', 'Colegio', 'Casa', 'Cerveza',\n",
       "       'Casa', 'Casa', 'Cerveza', 'Colegio', 'Cerveza', 'Cerveza',\n",
       "       'Cerveza', 'Casa', 'Casa', 'Casa', 'Casa', 'Sentir', 'Cerveza',\n",
       "       'Casa', 'Casa', 'Cerveza', 'Cerveza', 'Casa', 'Casa', 'Sentir',\n",
       "       'Casa', 'Cerveza', 'Cerveza', 'Cerveza', 'Cerveza', 'Cerveza',\n",
       "       'Cerveza', 'Colegio', 'Colegio', 'Cerveza', 'Casa', 'Casa',\n",
       "       'Sentir', 'Sentir', 'Casa', 'Casa', 'Casa', 'Cerveza', 'Casa',\n",
       "       'Cerveza', 'Casa', 'Cerveza', 'Casa', 'Cerveza', 'Cerveza',\n",
       "       'Cerveza', 'Sentir', 'Casa', 'Cerveza', 'Casa', 'Amigo', 'Cerveza',\n",
       "       'Casa', 'Cerveza', 'Cerveza', 'Casa', 'Casa', 'Cerveza', 'Cerveza',\n",
       "       'Cerveza', 'Cerveza', 'Casa', 'Cerveza', 'Casa', 'Sentir',\n",
       "       'Cerveza', 'Cerveza', 'Casa', 'Casa', 'Amigo', 'Cerveza', 'Casa',\n",
       "       'Colegio', 'Casa', 'Casa', 'Casa', 'Casa', 'Colegio', 'Casa',\n",
       "       'Casa', 'Casa', 'Colegio', 'Amigo', 'Casa', 'Casa', 'Casa',\n",
       "       'Abajo', 'Sentir', 'Sentir', 'Sentir', 'Cerveza', 'Casa', 'Casa',\n",
       "       'Casa', 'Cerveza', 'Colegio', 'Cerveza', 'Cerveza', 'Cerveza',\n",
       "       'Casa', 'Cerveza', 'Cerveza', 'Cerveza', 'Casa', 'Amigo', 'Casa',\n",
       "       'Amigo', 'Sentir', 'Amigo', 'Sentir', 'Casa', 'Casa', 'Sentir',\n",
       "       'Casa', 'Casa', 'Casa', 'Amigo', 'Cerveza', 'Casa', 'Cerveza',\n",
       "       'Casa', 'Casa', 'Colegio', 'Cerveza', 'Casa', 'Sentir', 'Casa',\n",
       "       'Amigo', 'Cerveza', 'Amigo', 'Cerveza', 'Cerveza', 'Sentir',\n",
       "       'Casa', 'Casa', 'Casa', 'Cerveza', 'Casa', 'Casa', 'Casa',\n",
       "       'Cerveza', 'Cerveza', 'Cerveza', 'Casa', 'Casa', 'Casa', 'Casa',\n",
       "       'Casa', 'Casa', 'Cerveza', 'Casa', 'Cerveza', 'Cerveza', 'Colegio',\n",
       "       'Cerveza', 'Cerveza', 'Casa', 'Cerveza', 'Casa', 'Cerveza',\n",
       "       'Cerveza', 'Cerveza', 'Casa', 'Sentir', 'Cerveza', 'Cerveza',\n",
       "       'Sentir', 'Casa', 'Casa', 'Sentir', 'Casa', 'Cerveza', 'Cerveza',\n",
       "       'Casa', 'Cerveza', 'Casa', 'Casa', 'Cerveza', 'Cerveza', 'Casa',\n",
       "       'Cerveza', 'Casa', 'Cerveza', 'Casa', 'Casa', 'Cerveza', 'Colegio',\n",
       "       'Cerveza', 'Cerveza', 'Cerveza', 'Casa', 'Cerveza', 'Cerveza',\n",
       "       'Casa', 'Amigo', 'Cerveza', 'Casa', 'Casa', 'Sentir', 'Sentir',\n",
       "       'Casa', 'Casa', 'Cerveza', 'Casa', 'Casa', 'Casa', 'Sentir',\n",
       "       'Casa', 'Casa', 'Casa', 'Casa', 'Colegio', 'Casa', 'Cerveza',\n",
       "       'Amigo', 'Cerveza', 'Casa', 'Amigo', 'Casa', 'Sentir', 'Amigo',\n",
       "       'Casa', 'Cerveza', 'Cerveza', 'Casa', 'Cerveza', 'Casa', 'Amigo',\n",
       "       'Cerveza', 'Colegio', 'Casa', 'Colegio', 'Cerveza', 'Casa',\n",
       "       'Colegio', 'Cerveza', 'Sentir', 'Colegio', 'Cerveza', 'Cerveza',\n",
       "       'Amigo', 'Colegio', 'Cerveza', 'Cerveza', 'Casa', 'Cerveza',\n",
       "       'Casa', 'Casa', 'Cerveza', 'Sentir', 'Cerveza', 'Casa', 'Casa',\n",
       "       'Cerveza', 'Casa', 'Colegio', 'Colegio', 'Cerveza', 'Cerveza',\n",
       "       'Casa', 'Cerveza', 'Colegio', 'Casa', 'Cerveza', 'Casa', 'Casa',\n",
       "       'Sentir', 'Cerveza', 'Amigo', 'Cerveza', 'Cerveza', 'Casa', 'Casa',\n",
       "       'Casa', 'Cerveza', 'Casa', 'Casa', 'Cerveza', 'Colegio', 'Casa',\n",
       "       'Cerveza', 'Casa', 'Casa', 'Colegio', 'Sentir', 'Cerveza',\n",
       "       'Colegio', 'Casa', 'Cerveza', 'Amigo', 'Cerveza', 'Casa',\n",
       "       'Cerveza', 'Sentir', 'Casa', 'Colegio', 'Casa', 'Cerveza', 'Casa',\n",
       "       'Colegio', 'Casa', 'Colegio', 'Colegio', 'Casa', 'Cerveza', 'Casa',\n",
       "       'Cerveza', 'Casa', 'Cerveza', 'Casa', 'Cerveza', 'Sentir', 'Casa',\n",
       "       'Colegio', 'Colegio', 'Casa', 'Cerveza'], dtype=object)"
      ]
     },
     "execution_count": 42,
     "metadata": {},
     "output_type": "execute_result"
    }
   ],
   "source": [
    "fit_models['sv'].predict(X_test)"
   ]
  },
  {
   "cell_type": "code",
   "execution_count": 43,
   "id": "b539f2ba",
   "metadata": {},
   "outputs": [
    {
     "name": "stdout",
     "output_type": "stream",
     "text": [
      "lr 0.9896103896103896\n",
      "rc 1.0\n",
      "rf 0.9974025974025974\n",
      "sv 0.9948051948051948\n"
     ]
    }
   ],
   "source": [
    "names=['Log.Regress','Ridge Class','Rand.Forest', 'SVC']\n",
    "scores=[]\n",
    "for algo, model in fit_models.items():\n",
    "    y_pred= model.predict(X_test)\n",
    "    scores.append(accuracy_score(y_test, y_pred))\n",
    "    print(algo, accuracy_score(y_test, y_pred))\n",
    "\n",
    "tr_split=pd.DataFrame({'Name': names,'Score': scores})"
   ]
  },
  {
   "cell_type": "code",
   "execution_count": 44,
   "id": "2ac5a481",
   "metadata": {},
   "outputs": [
    {
     "data": {
      "image/png": "[encoded data removed]",
      "text/plain": [
       "<Figure size 432x288 with 1 Axes>"
      ]
     },
     "metadata": {
      "needs_background": "light"
     },
     "output_type": "display_data"
    }
   ],
   "source": [
    "axis = sns.barplot (x = 'Name', y = 'Score', data = tr_split) \n",
    "axis.set (xlabel = 'Classifier', ylabel = 'Accuary')\n",
    "\n",
    "for p in axis.patches: \n",
    "    height = p.get_height () \n",
    "    axis.text (p.get_x () + p.get_width () / 2, height + 0.005, '{: 1.4f}'. format\n",
    "                 (height), ha = \"center\") "
   ]
  },
  {
   "cell_type": "code",
   "execution_count": 45,
   "id": "d75a6164",
   "metadata": {},
   "outputs": [
    {
     "name": "stderr",
     "output_type": "stream",
     "text": [
      "/home/redbird/miniconda3/envs/mediapipe/lib/python3.8/site-packages/sklearn/utils/deprecation.py:87: FutureWarning: Function plot_confusion_matrix is deprecated; Function `plot_confusion_matrix` is deprecated in 1.0 and will be removed in 1.2. Use one of the class methods: ConfusionMatrixDisplay.from_predictions or ConfusionMatrixDisplay.from_estimator.\n",
      "  warnings.warn(msg, category=FutureWarning)\n"
     ]
    },
    {
     "data": {
      "text/plain": [
       "<sklearn.metrics._plot.confusion_matrix.ConfusionMatrixDisplay at 0x7f66e4a5c6d0>"
      ]
     },
     "execution_count": 45,
     "metadata": {},
     "output_type": "execute_result"
    },
    {
     "data": {
      "image/png": "[encoded data removed]",
      "text/plain": [
       "<Figure size 432x288 with 2 Axes>"
      ]
     },
     "metadata": {
      "needs_background": "light"
     },
     "output_type": "display_data"
    }
   ],
   "source": [
    "clf = SVC(random_state=0)\n",
    "clf.fit(X_train, y_train)\n",
    "SVC(random_state=0)\n",
    "plot_confusion_matrix(clf, X_test, y_test)"
   ]
  },
  {
   "cell_type": "code",
   "execution_count": 46,
   "id": "a50c59e9",
   "metadata": {},
   "outputs": [
    {
     "data": {
      "image/png": "[encoded data removed]",
      "text/plain": [
       "<Figure size 432x288 with 2 Axes>"
      ]
     },
     "metadata": {
      "needs_background": "light"
     },
     "output_type": "display_data"
    }
   ],
   "source": [
    "def make_confusion_matrix(cf, group_names=None, categories='auto', count=True, percent=True, cbar=True, xyticks=True, xyplotlabels=True, sum_stats=True, figsize=None, cmap='Blues', title=None):\n",
    "    blanks = ['' for i in range(cf.size)]\n",
    "\n",
    "    if group_names and  len(group_names)==cf.size:\n",
    "        group_labels = [\"{}\\n\".format(value) for value in group_names]\n",
    "    else:\n",
    "        group_labels = blanks\n",
    "\n",
    "    if count:\n",
    "        group_counts = [\"{0:0.0f}\\n\".format(value) for value in cf.flatten()]\n",
    "    else:\n",
    "        group_counts = blanks\n",
    "\n",
    "    if percent:\n",
    "        group_percentages = [\"{0:.2%}\".format(value) for value in \n",
    "                                cf.flatten()/np.sum(cf)]\n",
    "    else:\n",
    "        group_percentages = blanks\n",
    "\n",
    "    box_labels = [f\"{v1}{v2}{v3}\".strip() for v1, v2, v3 in \n",
    "                   zip(group_labels,group_counts,group_percentages)]\n",
    "    box_labels = np.asarray(box_labels).reshape(cf.shape[0],cf.shape[1])\n",
    "\n",
    "    if sum_stats:\n",
    "        accuracy  = np.trace(cf) / float(np.sum(cf))\n",
    "\n",
    "        if len(cf)==2:\n",
    "            precision = cf[1,1] / sum(cf[:,1])\n",
    "            recall    = cf[1,1] / sum(cf[1,:])\n",
    "            f1_score  = 2*precision*recall / (precision + recall)\n",
    "            stats_text = \"\\n\\nAccuracy={:0.3f}\\nPrecision={:0.3f}\\nRecall={:0.3f}\\nF1,Score={:0.3f}\".format(accuracy,precision,recall,f1_score)\n",
    "        else:\n",
    "            stats_text = \"\\n\\nAccuracy={:0.3f}\".format(accuracy)\n",
    "    else:\n",
    "        stats_text = \"\"\n",
    "\n",
    "    if figsize==None:\n",
    "        figsize = plt.rcParams.get('figure.figsize')\n",
    "\n",
    "    if xyticks==False:\n",
    "        categories=False\n",
    "\n",
    "    plt.figure(figsize=figsize)\n",
    "    sns.heatmap(cf,annot=box_labels,fmt=\"\",cmap=cmap,cbar=cbar,xticklabels=categories,yticklabels=categories)\n",
    "\n",
    "    if xyplotlabels:\n",
    "        plt.ylabel('True label')\n",
    "        plt.xlabel('Predicted label' + stats_text)\n",
    "    else:\n",
    "        plt.xlabel(stats_text)\n",
    "    \n",
    "    if title:\n",
    "        plt.title(title)\n",
    "# Mostrar Confusion Matrix con métricas adicionales\n",
    "\n",
    "labels = ['True Neg','False Pos','False Neg','True Pos']\n",
    "categories = ['Abajo', 'Amigo','Casa','Cerveza','Colegio','Sentir']\n",
    "cf_matrix = confusion_matrix(y_test, y_pred)\n",
    "make_confusion_matrix(cf_matrix, group_names=labels, categories=categories, \n",
    "                        cmap='binary')"
   ]
  },
  {
   "cell_type": "code",
   "execution_count": 47,
   "id": "7d8f7774",
   "metadata": {},
   "outputs": [],
   "source": [
    "with open('body_language.pkl', 'wb') as f:\n",
    "    pickle.dump(fit_models['sv'], f)"
   ]
  },
  {
   "cell_type": "code",
   "execution_count": 48,
   "id": "163b8d06",
   "metadata": {},
   "outputs": [],
   "source": [
    "# Load model\n",
    "with open('./body_language.pkl', 'rb') as f:\n",
    "    model = pickle.load(f)"
   ]
  },
  {
   "cell_type": "code",
   "execution_count": 49,
   "id": "0d1fcd39",
   "metadata": {},
   "outputs": [
    {
     "data": {
      "text/html": [
       "<style>#sk-container-id-2 {color: black;background-color: white;}#sk-container-id-2 pre{padding: 0;}#sk-container-id-2 div.sk-toggleable {background-color: white;}#sk-container-id-2 label.sk-toggleable__label {cursor: pointer;display: block;width: 100%;margin-bottom: 0;padding: 0.3em;box-sizing: border-box;text-align: center;}#sk-container-id-2 label.sk-toggleable__label-arrow:before {content: \"▸\";float: left;margin-right: 0.25em;color: #696969;}#sk-container-id-2 label.sk-toggleable__label-arrow:hover:before {color: black;}#sk-container-id-2 div.sk-estimator:hover label.sk-toggleable__label-arrow:before {color: black;}#sk-container-id-2 div.sk-toggleable__content {max-height: 0;max-width: 0;overflow: hidden;text-align: left;background-color: #f0f8ff;}#sk-container-id-2 div.sk-toggleable__content pre {margin: 0.2em;color: black;border-radius: 0.25em;background-color: #f0f8ff;}#sk-container-id-2 input.sk-toggleable__control:checked~div.sk-toggleable__content {max-height: 200px;max-width: 100%;overflow: auto;}#sk-container-id-2 input.sk-toggleable__control:checked~label.sk-toggleable__label-arrow:before {content: \"▾\";}#sk-container-id-2 div.sk-estimator input.sk-toggleable__control:checked~label.sk-toggleable__label {background-color: #d4ebff;}#sk-container-id-2 div.sk-label input.sk-toggleable__control:checked~label.sk-toggleable__label {background-color: #d4ebff;}#sk-container-id-2 input.sk-hidden--visually {border: 0;clip: rect(1px 1px 1px 1px);clip: rect(1px, 1px, 1px, 1px);height: 1px;margin: -1px;overflow: hidden;padding: 0;position: absolute;width: 1px;}#sk-container-id-2 div.sk-estimator {font-family: monospace;background-color: #f0f8ff;border: 1px dotted black;border-radius: 0.25em;box-sizing: border-box;margin-bottom: 0.5em;}#sk-container-id-2 div.sk-estimator:hover {background-color: #d4ebff;}#sk-container-id-2 div.sk-parallel-item::after {content: \"\";width: 100%;border-bottom: 1px solid gray;flex-grow: 1;}#sk-container-id-2 div.sk-label:hover label.sk-toggleable__label {background-color: #d4ebff;}#sk-container-id-2 div.sk-serial::before {content: \"\";position: absolute;border-left: 1px solid gray;box-sizing: border-box;top: 0;bottom: 0;left: 50%;z-index: 0;}#sk-container-id-2 div.sk-serial {display: flex;flex-direction: column;align-items: center;background-color: white;padding-right: 0.2em;padding-left: 0.2em;position: relative;}#sk-container-id-2 div.sk-item {position: relative;z-index: 1;}#sk-container-id-2 div.sk-parallel {display: flex;align-items: stretch;justify-content: center;background-color: white;position: relative;}#sk-container-id-2 div.sk-item::before, #sk-container-id-2 div.sk-parallel-item::before {content: \"\";position: absolute;border-left: 1px solid gray;box-sizing: border-box;top: 0;bottom: 0;left: 50%;z-index: -1;}#sk-container-id-2 div.sk-parallel-item {display: flex;flex-direction: column;z-index: 1;position: relative;background-color: white;}#sk-container-id-2 div.sk-parallel-item:first-child::after {align-self: flex-end;width: 50%;}#sk-container-id-2 div.sk-parallel-item:last-child::after {align-self: flex-start;width: 50%;}#sk-container-id-2 div.sk-parallel-item:only-child::after {width: 0;}#sk-container-id-2 div.sk-dashed-wrapped {border: 1px dashed gray;margin: 0 0.4em 0.5em 0.4em;box-sizing: border-box;padding-bottom: 0.4em;background-color: white;}#sk-container-id-2 div.sk-label label {font-family: monospace;font-weight: bold;display: inline-block;line-height: 1.2em;}#sk-container-id-2 div.sk-label-container {text-align: center;}#sk-container-id-2 div.sk-container {/* jupyter's `normalize.less` sets `[hidden] { display: none; }` but bootstrap.min.css set `[hidden] { display: none !important; }` so we also need the `!important` here to be able to override the default hidden behavior on the sphinx rendered scikit-learn.org. See: https://github.com/scikit-learn/scikit-learn/issues/21755 */display: inline-block !important;position: relative;}#sk-container-id-2 div.sk-text-repr-fallback {display: none;}</style><div id=\"sk-container-id-2\" class=\"sk-top-container\"><div class=\"sk-text-repr-fallback\"><pre>Pipeline(steps=[(&#x27;minmaxscaler&#x27;, MinMaxScaler()),\n",
       "                (&#x27;svc&#x27;, SVC(probability=True))])</pre><b>In a Jupyter environment, please rerun this cell to show the HTML representation or trust the notebook. <br />On GitHub, the HTML representation is unable to render, please try loading this page with nbviewer.org.</b></div><div class=\"sk-container\" hidden><div class=\"sk-item sk-dashed-wrapped\"><div class=\"sk-label-container\"><div class=\"sk-label sk-toggleable\"><input class=\"sk-toggleable__control sk-hidden--visually\" id=\"sk-estimator-id-4\" type=\"checkbox\" ><label for=\"sk-estimator-id-4\" class=\"sk-toggleable__label sk-toggleable__label-arrow\">Pipeline</label><div class=\"sk-toggleable__content\"><pre>Pipeline(steps=[(&#x27;minmaxscaler&#x27;, MinMaxScaler()),\n",
       "                (&#x27;svc&#x27;, SVC(probability=True))])</pre></div></div></div><div class=\"sk-serial\"><div class=\"sk-item\"><div class=\"sk-estimator sk-toggleable\"><input class=\"sk-toggleable__control sk-hidden--visually\" id=\"sk-estimator-id-5\" type=\"checkbox\" ><label for=\"sk-estimator-id-5\" class=\"sk-toggleable__label sk-toggleable__label-arrow\">MinMaxScaler</label><div class=\"sk-toggleable__content\"><pre>MinMaxScaler()</pre></div></div></div><div class=\"sk-item\"><div class=\"sk-estimator sk-toggleable\"><input class=\"sk-toggleable__control sk-hidden--visually\" id=\"sk-estimator-id-6\" type=\"checkbox\" ><label for=\"sk-estimator-id-6\" class=\"sk-toggleable__label sk-toggleable__label-arrow\">SVC</label><div class=\"sk-toggleable__content\"><pre>SVC(probability=True)</pre></div></div></div></div></div></div></div>"
      ],
      "text/plain": [
       "Pipeline(steps=[('minmaxscaler', MinMaxScaler()),\n",
       "                ('svc', SVC(probability=True))])"
      ]
     },
     "execution_count": 49,
     "metadata": {},
     "output_type": "execute_result"
    }
   ],
   "source": [
    "model"
   ]
  },
  {
   "cell_type": "code",
   "execution_count": 50,
   "id": "61d48b01",
   "metadata": {},
   "outputs": [],
   "source": [
    "cap = cv2.VideoCapture(0)\n",
    "with mp_holistic.Holistic(min_detection_confidence = 0.5, min_tracking_confidence = 0.5) as holistic:\n",
    "    while cap.isOpened():\n",
    "        ret, frame = cap.read()\n",
    "        if ret == True:\n",
    "            # Resize frame\n",
    "            #frame = cv2.resize(frame, (WIDTH, HEIGHT), interpolation = cv2.INTER_AREA)\n",
    "            # Change color from BGR to RGB\n",
    "            frame = cv2.cvtColor(frame, cv2.COLOR_BGR2RGB)\n",
    "            frame.flags.writeable = False\n",
    "            # Detect landmarks\n",
    "            results = holistic.process(frame)\n",
    "            \n",
    "             # Mano izquierda (rojo)\n",
    "            mp_drawing.draw_landmarks(\n",
    "                frame, results.left_hand_landmarks, mp_holistic.HAND_CONNECTIONS,\n",
    "                mp_drawing.DrawingSpec(color=(255, 255, 0), thickness=2, circle_radius=1),\n",
    "                mp_drawing.DrawingSpec(color=(255, 0, 0), thickness=2))\n",
    "\n",
    "           # Mano derecha (verde)\n",
    "            mp_drawing.draw_landmarks(\n",
    "                frame, results.right_hand_landmarks, mp_holistic.HAND_CONNECTIONS,\n",
    "                mp_drawing.DrawingSpec(color=(0, 255, 0), thickness=2, circle_radius=1),\n",
    "                mp_drawing.DrawingSpec(color=(57, 143, 0), thickness=2))\n",
    "\n",
    "           # Postura\n",
    "            mp_drawing.draw_landmarks(\n",
    "                frame, results.pose_landmarks, mp_holistic.POSE_CONNECTIONS,\n",
    "                mp_drawing.DrawingSpec(color=(128, 0, 255), thickness=2, circle_radius=1),\n",
    "                mp_drawing.DrawingSpec(color=(255, 255, 255), thickness=2))\n",
    "            \n",
    "            try:\n",
    "                \n",
    "                # Add coords to list row\n",
    "                row = []            \n",
    "                ## Get rhand landmarks\n",
    "                try:\n",
    "                    for landmark in results.right_hand_landmarks.landmark:\n",
    "                        row.append(landmark.x)\n",
    "                        row.append(landmark.y)\n",
    "                        row.append(landmark.z)\n",
    "                except:\n",
    "                    pass\n",
    "                ## Get lhand landmarks\n",
    "                try:\n",
    "                    for landmark in results.left_hand_landmarks.landmark:\n",
    "                        row.append(landmark.x)\n",
    "                        row.append(landmark.y)\n",
    "                        row.append(landmark.z)\n",
    "                except:\n",
    "                    pass\n",
    "                    \n",
    "                ## Get pose landmarks\n",
    "                try:\n",
    "                    count = 0\n",
    "                    for landmark in results.pose_landmarks.landmark:\n",
    "                        row.append(landmark.x)\n",
    "                        row.append(landmark.y)\n",
    "                        row.append(landmark.z)\n",
    "                        count += 1\n",
    "                        if count == 15:\n",
    "                            break\n",
    "                except:\n",
    "                    pass\n",
    "            except:\n",
    "                pass \n",
    "           \n",
    "            if len(row)==171:\n",
    "                X = pd.DataFrame([row])\n",
    "                body_language_class = model.predict(X)[0]\n",
    "                body_language_prob = model.predict_proba(X)[0]\n",
    "                print(body_language_class)\n",
    "\n",
    "                #Ref ear coords\n",
    "                #puntos de referencia desde donde coger las coordenadas para poner \n",
    "                #el rectangulo del cartelito(aqui las orejas) \n",
    "                coords = tuple(np.multiply(\n",
    "                                np.array(\n",
    "                                    (results.pose_landmarks.landmark[mp_holistic.PoseLandmark.LEFT_EAR].x, \n",
    "                                     results.pose_landmarks.landmark[mp_holistic.PoseLandmark.LEFT_EAR].y))\n",
    "                            , [640,480]).astype(int))\n",
    "                #RECTANGULO AL LADO OREJA\n",
    "                cv2.rectangle(frame, \n",
    "                              (coords[0], coords[1]+5), \n",
    "                              (coords[0]+len(body_language_class)*20, coords[1]-30), \n",
    "                              (0, 255, 0), -1)\n",
    "            \n",
    "                #TEXTO DENTRO RECTANGULO AL LADO OREJA\n",
    "                cv2.putText(frame, body_language_class, coords,\n",
    "                            cv2.FONT_HERSHEY_SIMPLEX, 1, (255, 255, 255), 2, cv2.LINE_AA)\n",
    "            \n",
    "            \n",
    "            \n",
    "                # RECTAGULO SUPERIOR IZQUIERDA\n",
    "                cv2.rectangle(frame, (0,0), (250, 60), (245, 117, 16),2)\n",
    "            \n",
    "                # Display Class\n",
    "                cv2.putText(frame, 'CLASS'  # texto enunciado\n",
    "                            , (110,20), cv2.FONT_HERSHEY_SIMPLEX, 0.5, (0, 0, 0), 1, cv2.LINE_AA)\n",
    "                cv2.putText(frame, body_language_class.split(' ')[0]   #texto valor class\n",
    "                            , (110,50), cv2.FONT_HERSHEY_SIMPLEX, 1, (0, 0, 255), 2, cv2.LINE_AA)\n",
    "\n",
    "                # Display Probability\n",
    "                cv2.putText(frame, 'PROB'\n",
    "                            , (15,20), cv2.FONT_HERSHEY_SIMPLEX, 0.5, (0, 0, 0), 1, cv2.LINE_AA)\n",
    "                cv2.putText(frame, str(round(body_language_prob[np.argmax(body_language_prob)],2))\n",
    "                            , (10,50), cv2.FONT_HERSHEY_SIMPLEX, 1, (255, 255, 255), 2, cv2.LINE_AA)\n",
    "           \n",
    "            frame = cv2.cvtColor(frame, cv2.COLOR_RGB2BGR)\n",
    "            cv2.imshow(\"Imagen a detectar\", frame)\n",
    "            if cv2.waitKey(10) & 0xFF == ord('q'):\n",
    "                    break\n",
    "        else:\n",
    "            break\n",
    "cap.release()\n",
    "cv2.destroyAllWindows()"
   ]
  }
 ],
 "metadata": {
  "kernelspec": {
   "display_name": "mediapipe",
   "language": "python",
   "name": "mediapipe"
  },
  "language_info": {
   "codemirror_mode": {
    "name": "ipython",
    "version": 3
   },
   "file_extension": ".py",
   "mimetype": "text/x-python",
   "name": "python",
   "nbconvert_exporter": "python",
   "pygments_lexer": "ipython3",
   "version": "3.8.13"
  }
 },
 "nbformat": 4,
 "nbformat_minor": 5
}
